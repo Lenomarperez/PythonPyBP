{
 "cells": [
  {
   "cell_type": "code",
   "execution_count": 92,
   "id": "56aeaad1",
   "metadata": {},
   "outputs": [
    {
     "name": "stdout",
     "output_type": "stream",
     "text": [
      "Election Results\n",
      "----------------------------\n",
      "Total Votes: 369711\n",
      "----------------------------\n",
      "\n",
      "Charles Casper Stockham 23.05% (85213)\n",
      "Diana DeGette 73.81% (272892)\n",
      "Raymon Anthony Doane 3.14% (11606)\n"
     ]
    }
   ],
   "source": [
    "import os\n",
    "import csv\n",
    "\n",
    "\n",
    "\n",
    "csvpath = os.path.join(\".\", \"Resources\", \"election_data.csv\")\n",
    "pypoll_output = os.path.join(\".\", \"PyPoll_Analysis.txt\")\n",
    "\n",
    "total_votes = 0\n",
    "candidate_votes = {}\n",
    "winning_count = \"\"\n",
    "\n",
    "\n",
    "with open(csvpath, \"r\") as pypoll_data:\n",
    "    reader = csv.reader(pypoll_data)\n",
    "    \n",
    "    #PRINT HEADER\n",
    "    header = next(reader)\n",
    "    \n",
    "   \n",
    "    \n",
    "    for row in reader:\n",
    "        candidate = row[2]\n",
    "        if candidate in candidate_votes.keys():\n",
    "            candidate_votes[candidate] += 1\n",
    "        else: \n",
    "            candidate_votes[candidate] = 1 \n",
    "    total_votes = sum(candidate_votes.values())\n",
    "\n",
    "\n",
    "    \n",
    "\n",
    "votes =  candidate_votes[candidate]\n",
    "vote_percentage = float(votes) / float(total_votes) * 100\n",
    "\n",
    "\n",
    "\n",
    "\n",
    "    \n",
    "output_data = (\n",
    "    f\"Election Results\\n\"\n",
    "    f\"----------------------------\\n\"\n",
    "    f\"Total Votes: {total_votes}\\n\"\n",
    "    f\"----------------------------\\n\")\n",
    "\n",
    "\n",
    "print(output_data)\n",
    "\n",
    "\n",
    "for i in candidate_votes:\n",
    "    print(f\"{i} {(float(candidate_votes[i]) / float(total_votes) * 100):.2f}% ({candidate_votes[i]})\")\n",
    "    \n",
    "\n",
    "with open(pypoll_output, \"w\") as txt_file:\n",
    "    txt_file.write(output_data)\n",
    "    #Election Results\n",
    "\n",
    "#-------------------------\n",
    "#Total Votes: 369711\n",
    "#-------------------------\n",
    "#Charles Casper Stockham: 23.049% (85213)\n",
    "#Diana DeGette: 73.812% (272892)\n",
    "#Raymon Anthony Doane: 3.139% (11606)\n",
    "#-------------------------\n",
    "#Winner: Diana DeGette\n",
    "#-------------------------\n"
   ]
  },
  {
   "cell_type": "code",
   "execution_count": 90,
   "id": "7d39f512",
   "metadata": {},
   "outputs": [
    {
     "name": "stdout",
     "output_type": "stream",
     "text": [
      "None\n"
     ]
    }
   ],
   "source": [
    "print(w_candidates) "
   ]
  },
  {
   "cell_type": "code",
   "execution_count": null,
   "id": "84d89ebe",
   "metadata": {},
   "outputs": [],
   "source": []
  }
 ],
 "metadata": {
  "kernelspec": {
   "display_name": "Python 3 (ipykernel)",
   "language": "python",
   "name": "python3"
  },
  "language_info": {
   "codemirror_mode": {
    "name": "ipython",
    "version": 3
   },
   "file_extension": ".py",
   "mimetype": "text/x-python",
   "name": "python",
   "nbconvert_exporter": "python",
   "pygments_lexer": "ipython3",
   "version": "3.9.13"
  },
  "vscode": {
   "interpreter": {
    "hash": "31f2aee4e71d21fbe5cf8b01ff0e069b9275f58929596ceb00d14d90e3e16cd6"
   }
  }
 },
 "nbformat": 4,
 "nbformat_minor": 5
}
