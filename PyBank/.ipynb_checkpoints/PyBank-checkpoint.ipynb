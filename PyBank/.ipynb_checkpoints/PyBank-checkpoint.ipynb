{
 "cells": [
  {
   "cell_type": "code",
   "execution_count": 68,
   "id": "dafae52c",
   "metadata": {
    "scrolled": true
   },
   "outputs": [
    {
     "name": "stdout",
     "output_type": "stream",
     "text": [
      "Financial Analysis\n",
      "----------------------------\n",
      "Total months: 86\n",
      "total: $22564198\n",
      "Average change $-8311.11\n",
      "Greatest Increase in Profit Aug-16 ($1862002)\n",
      "Greatest Decrease in Profit Feb-14 ($-1825558)\n",
      "\n"
     ]
    }
   ],
   "source": [
    "import os \n",
    "import csv\n",
    "\n",
    "csvpath = os.path.join(\".\", \"Resources\", \"budget_data.csv\")\n",
    "\n",
    "file_output = os.path.join(\".\" \"budget_analysis.txt\")\n",
    "\n",
    "\n",
    "total_months = 0\n",
    "total = 0\n",
    "netchange_list = [] \n",
    "\n",
    "month_of_changes = []\n",
    "greatest = [\"\", 0]\n",
    "least = [\"\", 9999999999999999999999999999]\n",
    "\n",
    "# read the data\n",
    "with open(csvpath,\"r\") as file_data:\n",
    "    \n",
    "    reader = csv.reader(file_data)\n",
    "    \n",
    "    #print(reader)\n",
    "    \n",
    "    header = next(reader)\n",
    "    \n",
    "    #print(f\"Header: {header}\")\n",
    "    first_row = next(reader)\n",
    "    \n",
    "    \n",
    "    total += int(first_row[1])\n",
    "    \n",
    "    previous_net = int(first_row[1])\n",
    "    \n",
    "    total_months += 1\n",
    "\n",
    "    for row in reader:\n",
    "        # track the total \n",
    "        \n",
    "        total_months = total_months + 1\n",
    "        total += int(row[1])\n",
    "        \n",
    "        #print(row)\n",
    "        #track the net change\n",
    "        net_change = int(row[1]) - previous_net\n",
    "        previous_net = int(row[1])\n",
    "        netchange_list.append(net_change) \n",
    "        \n",
    "        #calculation for greatest increase \n",
    "        if(net_change > greatest[1]):\n",
    "            greatest[0] = row[0]\n",
    "            greatest[1] = net_change\n",
    "       \n",
    "    #calculation for greatest decrease\n",
    "        if(net_change < least[1]):\n",
    "                least[0] = row[0]\n",
    "                least[1] = net_change\n",
    "                       \n",
    "\n",
    "\n",
    "net_monthly_avg = sum(netchange_list)/len(netchange_list)\n",
    "        \n",
    "        \n",
    "        \n",
    "output_data = (\n",
    "    f\"Financial Analysis\\n\"\n",
    "    f\"----------------------------\\n\"\n",
    "    f\"Total months: {total_months}\\n\"\n",
    "    f\"total: ${total}\\n\"\n",
    "    f\"Average change ${net_monthly_avg:.2f}\\n\"\n",
    "    f'Greatest Increase in Profit {greatest[0]} (${greatest[1]})\\n'\n",
    "    f\"Greatest Decrease in Profit {least[0]} (${least[1]})\\n\")\n",
    "    \n",
    "print(output_data)\n",
    "    "
   ]
  }
 ],
 "metadata": {
  "kernelspec": {
   "display_name": "Python 3 (ipykernel)",
   "language": "python",
   "name": "python3"
  },
  "language_info": {
   "codemirror_mode": {
    "name": "ipython",
    "version": 3
   },
   "file_extension": ".py",
   "mimetype": "text/x-python",
   "name": "python",
   "nbconvert_exporter": "python",
   "pygments_lexer": "ipython3",
   "version": "3.9.13"
  }
 },
 "nbformat": 4,
 "nbformat_minor": 5
}
